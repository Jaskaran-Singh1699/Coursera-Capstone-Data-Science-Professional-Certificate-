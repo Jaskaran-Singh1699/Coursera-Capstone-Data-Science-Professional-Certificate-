{
 "cells": [
  {
   "cell_type": "markdown",
   "metadata": {},
   "source": [
    "## Web scraping Falcon 9 and Falcon Heavy Launches Records from Wikipedia\n"
   ]
  },
  {
   "cell_type": "markdown",
   "metadata": {},
   "source": [
    "In this lab, you will be performing web scraping to collect Falcon 9 historical launch records from a Wikipedia page titled `List of Falcon 9 and Falcon Heavy launches`\n",
    "\n",
    "https://en.wikipedia.org/wiki/List_of_Falcon_9_and_Falcon_Heavy_launches\n"
   ]
  },
  {
   "cell_type": "code",
   "execution_count": 1,
   "metadata": {},
   "outputs": [],
   "source": [
    "import sys\n",
    "import requests\n",
    "import unicodedata\n",
    "import pandas as pd\n",
    "\n",
    "from bs4 import BeautifulSoup"
   ]
  },
  {
   "cell_type": "code",
   "execution_count": 39,
   "metadata": {},
   "outputs": [],
   "source": [
    "# define helper functions for scraping\n",
    "\n",
    "def date_time(table_cells):\n",
    "    return [date_time.strip() for date_time in list(table_cells.strings)][0:2]\n",
    "\n",
    "def booster_version(table_cells):\n",
    "    return \" \".join([booster_version for i, booster_version in enumerate(table_cells.strings) if i%2==0][0:-1])\n",
    "\n",
    "def landing_status(table_cells):\n",
    "    return [i for i in table_cells.strings][0]\n",
    "\n",
    "def get_mass(table_cells):\n",
    "    mass=unicodedata.normalize('NFKD',table_cells.text).strip()\n",
    "    if mass:\n",
    "        # mass.find('kg')\n",
    "        new_mass=mass[0:mass.find('kg')+2]\n",
    "\n",
    "    else:\n",
    "        new_mass=0\n",
    "    return new_mass\n",
    "\n",
    "def extract_column_from_header(row):\n",
    "    if(row.br):\n",
    "        row.br.extract()\n",
    "    if row.a:\n",
    "        row.a.extract()\n",
    "    if row.sup:\n",
    "        row.sup.extract()\n",
    "\n",
    "    column_name=' '.join(row.contents)\n",
    "\n",
    "    if not(column_name.strip().isdigit()):\n",
    "        column_name=column_name.strip()\n",
    "        return column_name"
   ]
  },
  {
   "cell_type": "code",
   "execution_count": 3,
   "metadata": {},
   "outputs": [],
   "source": [
    "static_url = \"https://en.wikipedia.org/w/index.php?title=List_of_Falcon_9_and_Falcon_Heavy_launches&oldid=1027686922\""
   ]
  },
  {
   "cell_type": "markdown",
   "metadata": {},
   "source": [
    "Task1\n"
   ]
  },
  {
   "cell_type": "code",
   "execution_count": 4,
   "metadata": {},
   "outputs": [],
   "source": [
    "#HTTP GET method to request to page as an HTTP response\n",
    "\n",
    "response=requests.get(static_url)"
   ]
  },
  {
   "cell_type": "code",
   "execution_count": 6,
   "metadata": {},
   "outputs": [],
   "source": [
    "# create a beautiful soup object to parse\n",
    "soup = BeautifulSoup(response.text, 'html.parser')"
   ]
  },
  {
   "cell_type": "code",
   "execution_count": null,
   "metadata": {},
   "outputs": [
    {
     "data": {
      "text/plain": [
       "<title>List of Falcon 9 and Falcon Heavy launches - Wikipedia</title>"
      ]
     },
     "execution_count": 7,
     "metadata": {},
     "output_type": "execute_result"
    }
   ],
   "source": [
    "soup.title  #confirm if object was created properly"
   ]
  },
  {
   "cell_type": "markdown",
   "metadata": {},
   "source": [
    "Task2"
   ]
  },
  {
   "cell_type": "code",
   "execution_count": 9,
   "metadata": {},
   "outputs": [
    {
     "name": "stdout",
     "output_type": "stream",
     "text": [
      "26\n"
     ]
    }
   ],
   "source": [
    "html_tables=soup.find_all('table')\n",
    "print(len(html_tables))\n"
   ]
  },
  {
   "cell_type": "code",
   "execution_count": 11,
   "metadata": {},
   "outputs": [],
   "source": [
    "first_launch_table=html_tables[2]"
   ]
  },
  {
   "cell_type": "code",
   "execution_count": 13,
   "metadata": {},
   "outputs": [
    {
     "name": "stdout",
     "output_type": "stream",
     "text": [
      "[<th scope=\"col\">Flight No.\n",
      "</th>, <th scope=\"col\">Date and<br/>time (<a href=\"/wiki/Coordinated_Universal_Time\" title=\"Coordinated Universal Time\">UTC</a>)\n",
      "</th>, <th scope=\"col\"><a href=\"/wiki/List_of_Falcon_9_first-stage_boosters\" title=\"List of Falcon 9 first-stage boosters\">Version,<br/>Booster</a> <sup class=\"reference\" id=\"cite_ref-booster_11-0\"><a href=\"#cite_note-booster-11\"><span class=\"cite-bracket\">[</span>b<span class=\"cite-bracket\">]</span></a></sup>\n",
      "</th>, <th scope=\"col\">Launch site\n",
      "</th>, <th scope=\"col\">Payload<sup class=\"reference\" id=\"cite_ref-Dragon_12-0\"><a href=\"#cite_note-Dragon-12\"><span class=\"cite-bracket\">[</span>c<span class=\"cite-bracket\">]</span></a></sup>\n",
      "</th>, <th scope=\"col\">Payload mass\n",
      "</th>, <th scope=\"col\">Orbit\n",
      "</th>, <th scope=\"col\">Customer\n",
      "</th>, <th scope=\"col\">Launch<br/>outcome\n",
      "</th>, <th scope=\"col\"><a href=\"/wiki/Falcon_9_first-stage_landing_tests\" title=\"Falcon 9 first-stage landing tests\">Booster<br/>landing</a>\n",
      "</th>, <th rowspan=\"2\" scope=\"row\" style=\"text-align:center;\">1\n",
      "</th>, <th rowspan=\"2\" scope=\"row\" style=\"text-align:center;\">2\n",
      "</th>, <th rowspan=\"2\" scope=\"row\" style=\"text-align:center;\">3\n",
      "</th>, <th rowspan=\"3\" scope=\"row\" style=\"text-align:center;\">4\n",
      "</th>, <th rowspan=\"2\" scope=\"row\" style=\"text-align:center;\">5\n",
      "</th>, <th rowspan=\"2\" scope=\"row\" style=\"text-align:center;\">6\n",
      "</th>, <th rowspan=\"2\" scope=\"row\" style=\"text-align:center;\">7\n",
      "</th>]\n"
     ]
    }
   ],
   "source": [
    "flt_th=first_launch_table.find_all('th')\n",
    "print(flt_th)"
   ]
  },
  {
   "cell_type": "code",
   "execution_count": 24,
   "metadata": {},
   "outputs": [],
   "source": [
    "column_names=[]\n",
    "\n",
    "# find_all 'th' in first_launch_table\n",
    "flt_th=first_launch_table.find_all('th')\n",
    "\n",
    "for i in flt_th:\n",
    "    column_name= extract_column_from_header(i)\n",
    "    if column_name !=None and len(column_name)>0:\n",
    "        column_names.append(column_name)\n",
    "\n",
    "        "
   ]
  },
  {
   "cell_type": "code",
   "execution_count": 25,
   "metadata": {},
   "outputs": [
    {
     "data": {
      "text/plain": [
       "['Flight No.',\n",
       " 'Date and time ( )',\n",
       " 'Launch site',\n",
       " 'Payload',\n",
       " 'Payload mass',\n",
       " 'Orbit',\n",
       " 'Customer',\n",
       " 'Launch outcome']"
      ]
     },
     "execution_count": 25,
     "metadata": {},
     "output_type": "execute_result"
    }
   ],
   "source": [
    "column_names"
   ]
  },
  {
   "cell_type": "markdown",
   "metadata": {},
   "source": [
    "Task3"
   ]
  },
  {
   "cell_type": "code",
   "execution_count": 27,
   "metadata": {},
   "outputs": [],
   "source": [
    "#create a df by parsing the html tables\n",
    "\n",
    "launch_dict=dict.fromkeys(column_names)\n",
    "\n",
    "del launch_dict['Date and time ( )']"
   ]
  },
  {
   "cell_type": "code",
   "execution_count": 41,
   "metadata": {},
   "outputs": [],
   "source": [
    "# initialize launch_dict with each value to be an empty list\n",
    "launch_dict = {key: [] for key in column_names}\n",
    "\n",
    "# new columns\n",
    "launch_dict.update({'Version Booster':[],'Booster landing':[],'Date':[],'Time':[]})"
   ]
  },
  {
   "cell_type": "code",
   "execution_count": 34,
   "metadata": {},
   "outputs": [
    {
     "name": "stdout",
     "output_type": "stream",
     "text": [
      "[]\n"
     ]
    }
   ],
   "source": [
    "print(launch_dict['Flight No.'])"
   ]
  },
  {
   "cell_type": "code",
   "execution_count": 44,
   "metadata": {},
   "outputs": [],
   "source": [
    "# Fill up launch_dict with launch records extracted from table rows\n",
    "extracted_row = 0\n",
    "\n",
    "# Extract each table \n",
    "for table_number, table in enumerate(soup.find_all('table', \"wikitable plainrowheaders collapsible\")):\n",
    "    # Get table rows \n",
    "    for rows in table.find_all(\"tr\"):\n",
    "        # Check if first table heading is a number corresponding to a launch number\n",
    "        if rows.th:\n",
    "            if rows.th.string:\n",
    "                flight_number = rows.th.string.strip()\n",
    "                flag = flight_number.isdigit()\n",
    "        else:\n",
    "            flag = False\n",
    "\n",
    "        # Get table elements \n",
    "        row = rows.find_all('td')\n",
    "\n",
    "        # If it is a valid number, save cells in a dictionary\n",
    "        if flag:\n",
    "            extracted_row += 1\n",
    "\n",
    "            # Flight Number value\n",
    "            launch_dict['Flight No.'].append(flight_number)\n",
    "\n",
    "            # Extract Date and Time\n",
    "            datatimelist = date_time(row[0])\n",
    "            launch_dict['Date'].append(datatimelist[0].strip(','))  # Date\n",
    "            launch_dict['Time'].append(datatimelist[1])  # Time\n",
    "\n",
    "            # Booster version\n",
    "            bv = booster_version(row[1])\n",
    "            if not bv:\n",
    "                bv = row[1].a.string if row[1].a else row[1].text.strip()\n",
    "            launch_dict['Version Booster'].append(bv)\n",
    "\n",
    "            # Launch Site\n",
    "            launch_site = row[2].a.string if row[2].a else row[2].text.strip()\n",
    "            launch_dict['Launch site'].append(launch_site)\n",
    "\n",
    "            # Payload\n",
    "            payload = row[3].a.string if row[3].a else row[3].text.strip()\n",
    "            launch_dict['Payload'].append(payload)\n",
    "\n",
    "            # Payload Mass\n",
    "            payload_mass = get_mass(row[4])\n",
    "            launch_dict['Payload mass'].append(payload_mass)\n",
    "\n",
    "            # Orbit\n",
    "            orbit = row[5].a.string if row[5].a else row[5].text.strip()\n",
    "            launch_dict['Orbit'].append(orbit)\n",
    "\n",
    "            # Customer\n",
    "            customer = row[6].a.string if row[6].a else row[6].text.strip()\n",
    "            launch_dict['Customer'].append(customer)\n",
    "\n",
    "            # Launch outcome\n",
    "            launch_outcome = list(row[7].strings)[0] if row[7].strings else row[7].text.strip()\n",
    "            launch_dict['Launch outcome'].append(launch_outcome)\n",
    "\n",
    "            # Booster landing\n",
    "            booster_landing = landing_status(row[8])\n",
    "            launch_dict['Booster landing'].append(booster_landing)\n"
   ]
  },
  {
   "cell_type": "code",
   "execution_count": 45,
   "metadata": {},
   "outputs": [],
   "source": [
    "df=pd.DataFrame({key:pd.Series(value) for key , value in launch_dict.items()})"
   ]
  },
  {
   "cell_type": "code",
   "execution_count": 46,
   "metadata": {},
   "outputs": [],
   "source": [
    "df.to_csv('spacex_web_scraped.csv',index=False)"
   ]
  }
 ],
 "metadata": {
  "kernelspec": {
   "display_name": "Python 3",
   "language": "python",
   "name": "python3"
  },
  "language_info": {
   "codemirror_mode": {
    "name": "ipython",
    "version": 3
   },
   "file_extension": ".py",
   "mimetype": "text/x-python",
   "name": "python",
   "nbconvert_exporter": "python",
   "pygments_lexer": "ipython3",
   "version": "3.11.9"
  }
 },
 "nbformat": 4,
 "nbformat_minor": 2
}
